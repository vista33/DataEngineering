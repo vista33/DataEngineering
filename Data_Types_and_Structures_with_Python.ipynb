{
  "nbformat": 4,
  "nbformat_minor": 0,
  "metadata": {
    "colab": {
      "provenance": [],
      "toc_visible": true,
      "include_colab_link": true
    },
    "kernelspec": {
      "name": "python3",
      "display_name": "Python 3"
    },
    "language_info": {
      "name": "python"
    }
  },
  "cells": [
    {
      "cell_type": "markdown",
      "metadata": {
        "id": "view-in-github",
        "colab_type": "text"
      },
      "source": [
        "<a href=\"https://colab.research.google.com/github/vista33/DataEngineering/blob/main/Data_Types_and_Structures_with_Python.ipynb\" target=\"_parent\"><img src=\"https://colab.research.google.com/assets/colab-badge.svg\" alt=\"Open In Colab\"/></a>"
      ]
    },
    {
      "cell_type": "markdown",
      "source": [
        "# Data Types and Structures in Python\n"
      ],
      "metadata": {
        "id": "iZRZWFZy9_0u"
      }
    },
    {
      "cell_type": "markdown",
      "source": [
        "# Hands On"
      ],
      "metadata": {
        "id": "sjHg-ITGE3We"
      }
    },
    {
      "cell_type": "markdown",
      "source": [
        "## Basic Calculation"
      ],
      "metadata": {
        "id": "16tR86_yE5xv"
      }
    },
    {
      "cell_type": "code",
      "execution_count": null,
      "metadata": {
        "id": "J3OGyeUl_6Wm",
        "colab": {
          "base_uri": "https://localhost:8080/"
        },
        "outputId": "d526b66c-86ca-43ec-ac24-7b182470f0e9"
      },
      "outputs": [
        {
          "output_type": "stream",
          "name": "stdout",
          "text": [
            "Sum: 18\n",
            "Subtraction: 2\n",
            "Multiplication: 150\n",
            "Division 3.3333333333333335\n",
            "Round Division 3\n",
            "Modulo 1\n",
            "Hasil Pangkat 16\n"
          ]
        }
      ],
      "source": [
        "a = 10\n",
        "b = 5\n",
        "c = 3\n",
        "\n",
        "print ('Sum:', a+b+c)\n",
        "print ( 'Subtraction:', a-b-c)\n",
        "print ('Multiplication:', a*b*c)\n",
        "\n",
        "print ('Division', a/c)\n",
        "print ('Round Division', a//c)\n",
        "print ('Modulo',a%c)\n",
        "\n",
        "basis = 2\n",
        "pangkat = 4\n",
        "print ('Hasil Pangkat',2**4)"
      ]
    },
    {
      "cell_type": "markdown",
      "source": [
        "## Data Types"
      ],
      "metadata": {
        "id": "Nsm7zbOEB6CL"
      }
    },
    {
      "cell_type": "code",
      "source": [
        "a = 10\n",
        "b = 3.14\n",
        "c = '123'\n",
        "d = True\n",
        "\n",
        "print ('type data a',a, type(a), 'and b', b, type(b))\n"
      ],
      "metadata": {
        "id": "kZtpm8gjBULQ",
        "colab": {
          "base_uri": "https://localhost:8080/"
        },
        "outputId": "a4c232c5-331b-4c32-c12e-7a4d19c008ab"
      },
      "execution_count": null,
      "outputs": [
        {
          "output_type": "stream",
          "name": "stdout",
          "text": [
            "type data a 10 <class 'int'> and b 3.14 <class 'float'>\n"
          ]
        }
      ]
    },
    {
      "cell_type": "code",
      "source": [
        "import math\n",
        "# Convert data type\n",
        "## str to int\n",
        "num_str = '123'\n",
        "print ('type before', type(num_str))\n",
        "num_int = int (num_str)\n",
        "print ('type after', type (num_int))\n",
        "\n",
        "## str to float\n",
        "num_str = '3.14'\n",
        "print ('type before', type(num_str))\n",
        "num_int = float (num_str)\n",
        "print ('type after', type (num_int))\n",
        "\n",
        "## int to string\n",
        "num_int = 100\n",
        "print ('type before', type(num_int))\n",
        "num_str = str (num_str)\n",
        "print ('type after', type (num_str))\n",
        "\n",
        "## float to int\n",
        "num_float = 9.9999\n",
        "print ('type before', type(num_float))\n",
        "num_int = int (num_float)\n",
        "print (num_int)\n",
        "print ('type after', type (num_int))\n",
        "\n",
        "## str to int -> must be converted to float first then to integer\n",
        "num_str = '50.5'\n",
        "num_float = float (num_str)\n",
        "num_int = int(num_float)\n",
        "print (num_int)\n",
        "print (int(math.ceil(float('50.5'))))"
      ],
      "metadata": {
        "colab": {
          "base_uri": "https://localhost:8080/"
        },
        "id": "1PidqrPO2Hmg",
        "outputId": "7bc876c5-7da4-4292-8acb-a1a0a12098ee"
      },
      "execution_count": null,
      "outputs": [
        {
          "output_type": "stream",
          "name": "stdout",
          "text": [
            "type before <class 'str'>\n",
            "type after <class 'int'>\n",
            "type before <class 'str'>\n",
            "type after <class 'float'>\n",
            "type before <class 'int'>\n",
            "type after <class 'str'>\n",
            "type before <class 'float'>\n",
            "9\n",
            "type after <class 'int'>\n",
            "50\n",
            "51\n"
          ]
        }
      ]
    },
    {
      "cell_type": "code",
      "source": [
        "# Boolean\n",
        "print (bool(0))\n",
        "print (bool (123))\n",
        "print (bool(' '))\n",
        "\n",
        "# Truthy / Falsy\n",
        "# Falsy --> False --> 0, [], {}, \"\", None = Null\n",
        "# Truthy --> True --> has value, even only a space"
      ],
      "metadata": {
        "colab": {
          "base_uri": "https://localhost:8080/"
        },
        "id": "APae-Cv05JtJ",
        "outputId": "8e41b30d-561f-49d5-f9cf-0ad285ba47e3"
      },
      "execution_count": null,
      "outputs": [
        {
          "output_type": "stream",
          "name": "stdout",
          "text": [
            "False\n",
            "True\n",
            "True\n"
          ]
        }
      ]
    },
    {
      "cell_type": "code",
      "source": [
        "# Validate data type\n",
        "x = \"3.14\"\n",
        "if type (x) == str:\n",
        "  print ('Change to float!')\n",
        "  x = float (x)\n",
        "  print ('Data type:', type(x))"
      ],
      "metadata": {
        "colab": {
          "base_uri": "https://localhost:8080/"
        },
        "id": "2TxiVArg6Hw6",
        "outputId": "467eab7f-e329-4d18-ca2f-3eed14575816"
      },
      "execution_count": null,
      "outputs": [
        {
          "output_type": "stream",
          "name": "stdout",
          "text": [
            "Change to float!\n",
            "Data type: <class 'float'>\n"
          ]
        }
      ]
    },
    {
      "cell_type": "markdown",
      "source": [
        "## Data Structure"
      ],
      "metadata": {
        "id": "twWVZxJLB828"
      }
    },
    {
      "cell_type": "markdown",
      "source": [
        "### 1. List"
      ],
      "metadata": {
        "id": "82ERa2OrG2um"
      }
    },
    {
      "cell_type": "code",
      "source": [
        "colour = ['red','yellow','green','blue']\n",
        "print (colour)\n",
        "\n",
        "# Access index\n",
        "# Index positive\n",
        "print ('after positive indexing', colour[1])\n",
        "\n",
        "# Index negative\n",
        "print ('after negative indexing', colour[-1])\n",
        "\n",
        "# subtitute the colour\n",
        "colour [1] = 'gold'\n",
        "print ('after subtitute', colour)\n",
        "\n",
        "colour [-1] = 'grey'\n",
        "print ('after subtitute',colour)\n",
        "\n",
        "# add and insert the colour\n",
        "colour.append('purple')\n",
        "print ('after append:', colour)\n",
        "colour.insert(2, 'turqoise')\n",
        "print ('after insert in 2nd index:', colour)\n",
        "\n",
        "# delete element\n",
        "colour.remove ('green') # based on value\n",
        "print ('after remove:', colour)\n",
        "\n",
        "colour.pop (2) # based on index\n",
        "print ('after pop:', colour)\n",
        "\n",
        "# slicing element\n",
        "print ('after slicing: ', colour[1:3])\n",
        "print ('after slicing: ', colour[:2])\n",
        "print ('after slicing: ', colour[-2:])\n"
      ],
      "metadata": {
        "id": "zKh3hDt1CDXg",
        "colab": {
          "base_uri": "https://localhost:8080/"
        },
        "outputId": "3ac7366c-a23e-40e6-838a-a5fd0a5e8ed2"
      },
      "execution_count": null,
      "outputs": [
        {
          "output_type": "stream",
          "name": "stdout",
          "text": [
            "['red', 'yellow', 'green', 'blue']\n",
            "after positive indexing yellow\n",
            "after negative indexing blue\n",
            "after subtitute ['red', 'gold', 'green', 'blue']\n",
            "after subtitute ['red', 'gold', 'green', 'grey']\n",
            "after append: ['red', 'gold', 'green', 'grey', 'purple']\n",
            "after insert in 2nd index: ['red', 'gold', 'turqoise', 'green', 'grey', 'purple']\n",
            "after remove: ['red', 'gold', 'turqoise', 'grey', 'purple']\n",
            "after pop: ['red', 'gold', 'grey', 'purple']\n",
            "after slicing:  ['gold', 'grey']\n",
            "after slicing:  ['red', 'gold']\n",
            "after slicing:  ['grey', 'purple']\n"
          ]
        }
      ]
    },
    {
      "cell_type": "markdown",
      "source": [
        "### 2. Matrix (nested list)"
      ],
      "metadata": {
        "id": "AZhz_vR1HFZM"
      }
    },
    {
      "cell_type": "code",
      "source": [
        "# Make a matrix\n",
        "matrix = [[1,2,3],[4,5,6],[7,8,9]]\n",
        "print (matrix)\n",
        "print (matrix [1]) # print row\n",
        "print (matrix[1][1]) # first shows row, second shows column\n",
        "print (matrix[2][0])\n",
        "\n",
        "# append new row\n",
        "new_row = [10,11,12]\n",
        "matrix. append(new_row)\n",
        "print('after append', matrix)\n",
        "\n",
        "# subtitute\n",
        "matrix [0][0] = 99\n",
        "print ('after subtitute', matrix)\n",
        "\n"
      ],
      "metadata": {
        "id": "BarJMciEHGzq",
        "colab": {
          "base_uri": "https://localhost:8080/"
        },
        "outputId": "dbe277c4-0ad1-4e5c-a86f-d85c4203ebdf"
      },
      "execution_count": null,
      "outputs": [
        {
          "output_type": "stream",
          "name": "stdout",
          "text": [
            "[[1, 2, 3], [4, 5, 6], [7, 8, 9]]\n",
            "[4, 5, 6]\n",
            "5\n",
            "7\n",
            "after append [[1, 2, 3], [4, 5, 6], [7, 8, 9], [10, 11, 12]]\n",
            "after subtitute [[99, 2, 3], [4, 5, 6], [7, 8, 9], [10, 11, 12]]\n"
          ]
        }
      ]
    },
    {
      "cell_type": "markdown",
      "source": [
        "### 3. Tuple"
      ],
      "metadata": {
        "id": "VQ5-thzSHHO8"
      }
    },
    {
      "cell_type": "code",
      "source": [
        "# make tuple\n",
        "my_tuple = ('Python', 3.14, 42, True)\n",
        "print ('my tuple', my_tuple)\n",
        "print ('data type', type (my_tuple))\n",
        "\n",
        "# access by index\n",
        "print('first element', my_tuple[0])\n",
        "print('last element', my_tuple[-1])\n",
        "\n",
        "# count the length\n",
        "print ('total element', len(my_tuple))\n",
        "\n",
        "# try to change the tuple value\n",
        "# my_tuple[0] = 100 # can not be changed because it is immutable\n",
        "\n",
        "# ways to change the tuple value is converting it into list\n",
        "temp = list (my_tuple)\n",
        "temp [1] = \"changed\"\n",
        "my_tuple = tuple (temp)\n",
        "print ('after change', my_tuple)\n",
        "\n",
        "# tuple contains nested structure\n",
        "nested_tuple = (1,2,(3,4), True)\n",
        "print (\"nested_tuple\", nested_tuple)\n",
        "print (\"access to tuple in tuple\", nested_tuple [2][1])"
      ],
      "metadata": {
        "id": "mP4GN84_HI1m",
        "colab": {
          "base_uri": "https://localhost:8080/"
        },
        "outputId": "9ac26057-7769-47c7-d08d-f0e1ba8f377e"
      },
      "execution_count": null,
      "outputs": [
        {
          "output_type": "stream",
          "name": "stdout",
          "text": [
            "my tuple ('Python', 3.14, 42, True)\n",
            "data type <class 'tuple'>\n",
            "first element Python\n",
            "last element True\n",
            "total element 4\n",
            "after change ('Python', 'changed', 42, True)\n",
            "nested_tuple (1, 2, (3, 4), True)\n",
            "access to tuple in tuple 4\n"
          ]
        }
      ]
    },
    {
      "cell_type": "markdown",
      "source": [
        "### 4. Set"
      ],
      "metadata": {
        "id": "ZoAynK5JHLOz"
      }
    },
    {
      "cell_type": "code",
      "source": [
        "# Make set\n",
        "my_set = {1,2,3,4,5}\n",
        "print ('set before', my_set)\n",
        "\n",
        "# Adding element (using add built in)\n",
        "my_set.add(6)\n",
        "my_set.add(3) # because it is duplicate\n",
        "print('set after addition', my_set)\n",
        "\n",
        "# Delete element\n",
        "my_set.remove (2)  # it gives error if the value is not exist\n",
        "print ('set after removal', my_set)\n",
        "my_set.discard (10) # it isn't error eventhough the valu is not exist\n",
        "print ('set after removal', my_set)\n",
        "\n",
        "# Operation in Set\n",
        "set_a = {1,2,3,4}\n",
        "set_b = {3,4,5,6}\n",
        "\n",
        "print ('Union', set_a|set_b)\n",
        "print ('Intersection', set_a & set_b)\n",
        "print ('Difference/Selisih set_a - set_b', set_a - set_b)\n",
        "print ('Difference/Selisih set_b - set_a', set_b - set_a)"
      ],
      "metadata": {
        "id": "Y5ar98lkHLrf",
        "colab": {
          "base_uri": "https://localhost:8080/"
        },
        "outputId": "c1831374-b90b-41e9-82a3-7e7bddbb4f26"
      },
      "execution_count": null,
      "outputs": [
        {
          "output_type": "stream",
          "name": "stdout",
          "text": [
            "set before {1, 2, 3, 4, 5}\n",
            "set after addition {1, 2, 3, 4, 5, 6}\n",
            "set after removal {1, 3, 4, 5, 6}\n",
            "set after removal {1, 3, 4, 5, 6}\n",
            "Union {1, 2, 3, 4, 5, 6}\n",
            "Intersection {3, 4}\n",
            "Difference/Selisih set_a - set_b {1, 2}\n",
            "Difference/Selisih set_b - set_a {5, 6}\n"
          ]
        }
      ]
    },
    {
      "cell_type": "markdown",
      "source": [
        "### 5. Dictionary"
      ],
      "metadata": {
        "id": "euUhXAJ6HM21"
      }
    },
    {
      "cell_type": "code",
      "source": [
        "# Make a dictionary\n",
        "my_dict = {\n",
        "    'name':'Vista',\n",
        "    'role':'Data Engineer',\n",
        "    'age': 29,\n",
        "    'skills': ['Power BI', 'Python', 'SQL']\n",
        "}\n",
        "\n",
        "# Access data\n",
        "print ('name', my_dict['name'])\n",
        "print ('role', my_dict.get('role')) # no error eventhough the key is not exist\n",
        "\n",
        "# Add and update data\n",
        "my_dict['city'] = 'Salatiga'\n",
        "my_dict['age'] = 18\n",
        "print ('after update', my_dict)\n",
        "\n",
        "# Delete data\n",
        "del my_dict['city']\n",
        "my_dict.pop('role')\n",
        "print ('after delete', my_dict)\n",
        "\n",
        "# Add skill\n",
        "my_dict['skills'].append('Microsoft')\n",
        "print('after addition', my_dict)\n",
        "\n"
      ],
      "metadata": {
        "id": "9Umrs3OhHNVA",
        "colab": {
          "base_uri": "https://localhost:8080/"
        },
        "outputId": "83c3c974-172e-4a0d-941f-bfbc67b3f13e"
      },
      "execution_count": null,
      "outputs": [
        {
          "output_type": "stream",
          "name": "stdout",
          "text": [
            "name Vista\n",
            "role Data Engineer\n",
            "after update {'name': 'Vista', 'role': 'Data Engineer', 'age': 18, 'skills': ['Power BI', 'Python', 'SQL'], 'city': 'Salatiga'}\n",
            "after delete {'name': 'Vista', 'age': 18, 'skills': ['Power BI', 'Python', 'SQL']}\n",
            "after addition {'name': 'Vista', 'age': 18, 'skills': ['Power BI', 'Python', 'SQL', 'Microsoft']}\n"
          ]
        }
      ]
    },
    {
      "cell_type": "markdown",
      "source": [
        "# !! Exercise Mandiri !!"
      ],
      "metadata": {
        "id": "QdnU9GQ7HOz7"
      }
    },
    {
      "cell_type": "markdown",
      "source": [
        "## 🧮 1. Basic Calculation\n",
        "Soal:\n",
        "- Hitunglah hasil dari operasi berikut dan tampilkan hasilnya:\n",
        "- `a = 7`, `b = 4`\n",
        "\n",
        "Hitung:\n",
        "- a dibagi b (float)\n",
        "- a pangkat b\n",
        "- Sisa dari (a × 3) dibagi (b + 1)"
      ],
      "metadata": {
        "id": "kgvYaV3lJAZX"
      }
    },
    {
      "cell_type": "code",
      "source": [
        "# define the variables\n",
        "a = 7\n",
        "b = 4\n",
        "\n",
        "# a divided by b (float)\n",
        "print ('a/b =', a/b)\n",
        "\n",
        "# a to the power b\n",
        "print ('a^b =', a**b)\n",
        "\n",
        "# Modulo (ax3) / (b+1)\n",
        "print ('Modulo (ax3)/(b+1) =', (a*3)%(b+1))\n"
      ],
      "metadata": {
        "id": "51lla76xIyRe",
        "colab": {
          "base_uri": "https://localhost:8080/"
        },
        "outputId": "31af8ca3-9af4-4d42-dfb5-0f8588a4f03f"
      },
      "execution_count": null,
      "outputs": [
        {
          "output_type": "stream",
          "name": "stdout",
          "text": [
            "a/b = 1.75\n",
            "a^b = 2401\n",
            "Modulo (ax3)/(b+1) = 1\n"
          ]
        }
      ]
    },
    {
      "cell_type": "markdown",
      "source": [
        "## 🔤 2. Data Types\n",
        "Soal:\n",
        "- Buat variabel nilai = \"85.5\"\n",
        "- Konversikan ke float lalu ke int.\n",
        "- Tampilkan hasil dan tipe datanya setelah tiap konversi."
      ],
      "metadata": {
        "id": "eqN2rOIpJFfc"
      }
    },
    {
      "cell_type": "code",
      "source": [
        "# Make a variable contains string\n",
        "x = \"85.5\"\n",
        "print ('type before convertion', type(x))\n",
        "x = float (x)\n",
        "print ('type float', type(x))\n",
        "x = int (x)\n",
        "print ('type after convertion', type(x))"
      ],
      "metadata": {
        "id": "kJNqELcTJKWQ",
        "colab": {
          "base_uri": "https://localhost:8080/"
        },
        "outputId": "e30da7ad-ddbf-4bd6-b441-1d6a6bbbe7d9"
      },
      "execution_count": null,
      "outputs": [
        {
          "output_type": "stream",
          "name": "stdout",
          "text": [
            "type before convertion <class 'str'>\n",
            "type float <class 'float'>\n",
            "type after convertion <class 'int'>\n"
          ]
        }
      ]
    },
    {
      "cell_type": "markdown",
      "source": [
        "## 📚 3. List\n",
        "Soal:\n",
        "- Buat list buah = `['apel', 'pisang', 'jeruk']`\n",
        "- Tambahkan ‘mangga’ di akhir dan ‘nanas’ di urutan ke-2\n",
        "- Ubah ‘jeruk’ jadi ‘anggur’\n",
        "- Cetak list mundur menggunakan loop"
      ],
      "metadata": {
        "id": "RXndeSk2JJuz"
      }
    },
    {
      "cell_type": "code",
      "source": [
        "# make a list\n",
        "fruits = ['apel', 'pisang', 'jeruk']\n",
        "\n",
        "# add value into the list\n",
        "fruits.append('mangga')\n",
        "fruits.insert(1, 'nanas')\n",
        "\n",
        "# replace value inside the list\n",
        "fruits[-2] = 'anggur'\n",
        "print(fruits)\n",
        "\n",
        "# print list backward using for loop\n",
        "fruits_backward = []\n",
        "for i in range(1,len(fruits)):\n",
        "  fruits_backward.append(fruits[-i])\n",
        "fruits_backward.append(fruits[0])\n",
        "print (fruits_backward)"
      ],
      "metadata": {
        "colab": {
          "base_uri": "https://localhost:8080/"
        },
        "id": "p8tw7-uozn2d",
        "outputId": "5ec4cc2d-630d-4c70-abc1-4026094fd602"
      },
      "execution_count": null,
      "outputs": [
        {
          "output_type": "stream",
          "name": "stdout",
          "text": [
            "['apel', 'nanas', 'pisang', 'anggur', 'mangga']\n",
            "['mangga', 'anggur', 'pisang', 'nanas', 'apel']\n"
          ]
        }
      ]
    },
    {
      "cell_type": "markdown",
      "source": [
        "## 🧮 4. Matrix (Nested List)\n",
        "Soal:\n",
        "- Buat matrix 2x3: `[[10, 20, 30], [40, 50, 60]]`\n",
        "\n",
        "Tampilkan:\n",
        "- Jumlah kolom\n",
        "- Semua elemen di kolom ke-3\n",
        "- Tambahkan baris `[70, 80, 90]`"
      ],
      "metadata": {
        "id": "OgnI8xebJNi0"
      }
    },
    {
      "cell_type": "code",
      "source": [
        "# Make a matrix\n",
        "matrix = [[10,20,30],[40,50,60]]\n",
        "\n",
        "# total column\n",
        "print ('total column =', len(matrix[0]))\n",
        "\n",
        "# all elements in the 3rd column\n",
        "print ('all elements in the 3rd column =',[matrix[0][-1], matrix[1][-1]])\n",
        "\n",
        "# append the new row\n",
        "print(matrix)\n",
        "matrix.append([70,80,90])\n",
        "print ('matrix after a row addition',matrix)"
      ],
      "metadata": {
        "id": "LKBZv7cSJIX8",
        "colab": {
          "base_uri": "https://localhost:8080/"
        },
        "outputId": "7487b68f-ea20-4994-fb71-7dc8b2cf0b3e"
      },
      "execution_count": null,
      "outputs": [
        {
          "output_type": "stream",
          "name": "stdout",
          "text": [
            "total column = 3\n",
            "all elements in the 3rd column = [30, 60]\n",
            "[[10, 20, 30], [40, 50, 60]]\n",
            "matrix after a row addition [[10, 20, 30], [40, 50, 60], [70, 80, 90]]\n"
          ]
        }
      ]
    },
    {
      "cell_type": "markdown",
      "source": [
        "## 🔗 5. Tuple\n",
        "Soal:\n",
        "- Buat tuple `data = ('Python', 3, True)`\n",
        "- Ubah nilai 3 menjadi 3.9 dengan cara mengkonversi ke list lalu ubah kembali ke tuple\n",
        "- Tampilkan tuple hasil perubahan\n",
        "\n"
      ],
      "metadata": {
        "id": "19vMpyhsJVUj"
      }
    },
    {
      "cell_type": "code",
      "source": [
        "# Make a tuple\n",
        "my_tuple = ('Python',3,True)\n",
        "\n",
        "# Convert tuple to list\n",
        "my_list = list(my_tuple)\n",
        "my_list[1] = 3.9\n",
        "print ('temp_list', my_list)\n",
        "\n",
        "# Convert list to tuple\n",
        "my_tuple = tuple (my_list)\n",
        "print ('changed tuple', my_tuple)"
      ],
      "metadata": {
        "id": "blP9BGA8JYqX",
        "colab": {
          "base_uri": "https://localhost:8080/"
        },
        "outputId": "d3dc4e45-b2a1-4000-e5f7-ef5408f18607"
      },
      "execution_count": null,
      "outputs": [
        {
          "output_type": "stream",
          "name": "stdout",
          "text": [
            "temp_list ['Python', 3.9, True]\n",
            "changed tuple ('Python', 3.9, True)\n"
          ]
        }
      ]
    },
    {
      "cell_type": "markdown",
      "source": [
        "## 🧮 6. Set\n",
        "Soal:\n",
        "- Buat set `A = {1, 2, 3}` dan `B = {3, 4, 5}`\n",
        "\n",
        "Tampilkan:\n",
        "- Gabungan A dan B\n",
        "- Irisan A dan B\n",
        "- Selisih B dengan A\n",
        "- Tambahkan 6 ke A dan hapus 2 dari A"
      ],
      "metadata": {
        "id": "94ElMCI9JYKU"
      }
    },
    {
      "cell_type": "code",
      "source": [
        "# Make two sets\n",
        "a = {1,2,3}\n",
        "b = {3,4,5}\n",
        "\n",
        "# Operations a and b\n",
        "print ('a union b', a|b)\n",
        "print ('a intersect b', a&b)\n",
        "print ('selisih b - a', b-a)\n",
        "a.add(6)\n",
        "a.remove(2)\n",
        "print ('after addition and deletion', a)"
      ],
      "metadata": {
        "id": "Uk-xpNJ-JYY4",
        "colab": {
          "base_uri": "https://localhost:8080/"
        },
        "outputId": "30701632-5723-4e42-860d-072fbbe6cb3c"
      },
      "execution_count": null,
      "outputs": [
        {
          "output_type": "stream",
          "name": "stdout",
          "text": [
            "a union b {1, 2, 3, 4, 5}\n",
            "a intersect b {3}\n",
            "selisih b - a {4, 5}\n",
            "after addition and deletion {1, 3, 6}\n"
          ]
        }
      ]
    },
    {
      "cell_type": "markdown",
      "source": [
        "## 📖 7. Dictionary\n",
        "Soal:\n",
        "- Buat dictionary berisi:\n",
        "  - nama: Andi\n",
        "  - usia: 25\n",
        "  - hobi: baca, lari\n",
        "- Tambahkan key \"kota\": \"Bandung\"\n",
        "- Ubah usia jadi 26 tahun\n",
        "- Tampilkan seluruh key dan value menggunakan loop\n",
        "\n"
      ],
      "metadata": {
        "id": "ua3zi8QkJcrt"
      }
    },
    {
      "cell_type": "code",
      "source": [
        "# make a dict\n",
        "my_dict = {\n",
        "    'nama':'Andi',\n",
        "    'usia': 25,\n",
        "    'hobi':['baca','lari']\n",
        "}\n",
        "\n",
        "# add the key\n",
        "my_dict ['kota'] = 'Bandung'\n",
        "print ('after key addition', my_dict)\n",
        "\n",
        "# change the value\n",
        "my_dict ['usia'] = 26\n",
        "print ('after value changed', my_dict)\n",
        "\n",
        "# show all the keys and value\n",
        "for key, value in my_dict.items():\n",
        "  print ('all keys and values =',key,value)"
      ],
      "metadata": {
        "id": "l6EKu4i1Jc1k",
        "colab": {
          "base_uri": "https://localhost:8080/"
        },
        "outputId": "989893d1-10fe-4d1d-e0be-a6bb55050294"
      },
      "execution_count": null,
      "outputs": [
        {
          "output_type": "stream",
          "name": "stdout",
          "text": [
            "after key addition {'nama': 'Andi', 'usia': 25, 'hobi': ['baca', 'lari'], 'kota': 'Bandung'}\n",
            "after value changed {'nama': 'Andi', 'usia': 26, 'hobi': ['baca', 'lari'], 'kota': 'Bandung'}\n",
            "all keys and values = nama Andi\n",
            "all keys and values = usia 26\n",
            "all keys and values = hobi ['baca', 'lari']\n",
            "all keys and values = kota Bandung\n"
          ]
        }
      ]
    }
  ]
}