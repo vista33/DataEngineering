{
  "nbformat": 4,
  "nbformat_minor": 0,
  "metadata": {
    "colab": {
      "provenance": [],
      "authorship_tag": "ABX9TyOyyGEvZ7PmVVcypEwmUzu+",
      "include_colab_link": true
    },
    "kernelspec": {
      "name": "python3",
      "display_name": "Python 3"
    },
    "language_info": {
      "name": "python"
    }
  },
  "cells": [
    {
      "cell_type": "markdown",
      "metadata": {
        "id": "view-in-github",
        "colab_type": "text"
      },
      "source": [
        "<a href=\"https://colab.research.google.com/github/vista33/DataEngineering/blob/main/OOP.ipynb\" target=\"_parent\"><img src=\"https://colab.research.google.com/assets/colab-badge.svg\" alt=\"Open In Colab\"/></a>"
      ]
    },
    {
      "cell_type": "markdown",
      "source": [
        "# 1. Make a Class and Object"
      ],
      "metadata": {
        "id": "7IspcplEKIcr"
      }
    },
    {
      "cell_type": "code",
      "execution_count": null,
      "metadata": {
        "colab": {
          "base_uri": "https://localhost:8080/"
        },
        "id": "bdRMmyXGkHIk",
        "outputId": "38c763b2-b3e6-40db-b184-73e9819ce4c7"
      },
      "outputs": [
        {
          "output_type": "stream",
          "name": "stdout",
          "text": [
            "Student name : Vista\n",
            "Student number : 114120\n",
            "Student major : Biosystems Engineering\n",
            "The student's name is Vista studying Biosystems Engineering with id number 114120\n"
          ]
        }
      ],
      "source": [
        "# Make a student class\n",
        "class student:\n",
        "  def __init__ (self, name, stud_num, major):\n",
        "    self.name = name\n",
        "    self.stud_num = stud_num\n",
        "    self.major = major\n",
        "\n",
        "  def info_student (self):\n",
        "    print (f\"The student's name is {self.name} studying {self.major} with id number {self.stud_num}\")\n",
        "\n",
        "\n",
        "# Make an object from student class\n",
        "s1 = student ('Vista', 114120, 'Biosystems Engineering')\n",
        "\n",
        "# Show the class attribute\n",
        "print (f'Student name : {s1.name}')\n",
        "print (f'Student number : {s1.stud_num}')\n",
        "print (f'Student major : {s1.major}')\n",
        "\n",
        "# Show the class function\n",
        "s1.info_student()"
      ]
    },
    {
      "cell_type": "markdown",
      "source": [
        "# 2. Implement Encapsulation"
      ],
      "metadata": {
        "id": "GzvISjsDKNLU"
      }
    },
    {
      "cell_type": "code",
      "source": [
        "# Make a saving class\n",
        "class saving:\n",
        "  def __init__ (self,saldo = 0):\n",
        "    self.__saldo = saldo # private attribute\n",
        "\n",
        "  def add_deposit (self, x): # make a method for adding deposit\n",
        "    self.__saldo += x\n",
        "    print (f'Your saldo : {self.__saldo}')\n",
        "\n",
        "  def draw_deposit (self, x): # make a method to drawing deposit\n",
        "    if self.__saldo < x:\n",
        "      print (\"Saldo is not enough!\")\n",
        "    else:\n",
        "      self.__saldo -= x\n",
        "      print (f'Your saldo : {self.__saldo}')\n",
        "\n",
        "  def get_saldo (self): # make a method to show the private attribute\n",
        "    return self.__saldo\n",
        "\n",
        "  @property\n",
        "  def get_private_saldo (self): # make a method to show the private attribute\n",
        "    return self.__saldo\n",
        "\n",
        "\n",
        "# make an object\n",
        "s1 = saving ()\n",
        "\n",
        "# access the class method\n",
        "s1.add_deposit (20)\n",
        "s1.draw_deposit (10)\n",
        "s1.draw_deposit (20)\n",
        "\n",
        "# access the private attribute\n",
        "print ('Acces your private saldo :', s1.get_saldo())\n",
        "print ('Acces your private saldo :', s1.get_private_saldo)\n",
        "\n",
        "print (s1.saldo) # Fail to show the private attribute without method"
      ],
      "metadata": {
        "colab": {
          "base_uri": "https://localhost:8080/",
          "height": 263
        },
        "id": "qmGRFFkTmioO",
        "outputId": "895db3d5-0fc4-437c-e911-3ccb0332d151"
      },
      "execution_count": null,
      "outputs": [
        {
          "output_type": "stream",
          "name": "stdout",
          "text": [
            "Your saldo : 20\n",
            "Your saldo : 10\n",
            "Saldo is not enough!\n",
            "Acces your private saldo : 10\n",
            "Acces your private saldo : 10\n"
          ]
        },
        {
          "output_type": "error",
          "ename": "AttributeError",
          "evalue": "'saving' object has no attribute 'saldo'",
          "traceback": [
            "\u001b[0;31m---------------------------------------------------------------------------\u001b[0m",
            "\u001b[0;31mAttributeError\u001b[0m                            Traceback (most recent call last)",
            "\u001b[0;32m/tmp/ipython-input-1431823365.py\u001b[0m in \u001b[0;36m<cell line: 0>\u001b[0;34m()\u001b[0m\n\u001b[1;32m     31\u001b[0m \u001b[0;34m\u001b[0m\u001b[0m\n\u001b[1;32m     32\u001b[0m \u001b[0;34m\u001b[0m\u001b[0m\n\u001b[0;32m---> 33\u001b[0;31m \u001b[0mprint\u001b[0m \u001b[0;34m(\u001b[0m\u001b[0ms1\u001b[0m\u001b[0;34m.\u001b[0m\u001b[0msaldo\u001b[0m\u001b[0;34m)\u001b[0m \u001b[0;31m# Fail to show the private attribute without mwthod\u001b[0m\u001b[0;34m\u001b[0m\u001b[0;34m\u001b[0m\u001b[0m\n\u001b[0m",
            "\u001b[0;31mAttributeError\u001b[0m: 'saving' object has no attribute 'saldo'"
          ]
        }
      ]
    },
    {
      "cell_type": "markdown",
      "source": [
        "# 3. Implement Inheritance"
      ],
      "metadata": {
        "id": "hRgPPIAIMdHa"
      }
    },
    {
      "cell_type": "code",
      "source": [
        "# make a superclass shows name and salary of the employee\n",
        "class employee:\n",
        "  def __init__ (self, name, salary):\n",
        "    self.name = name\n",
        "    self. salary = salary\n",
        "\n",
        "  def employee_data (self):\n",
        "    print (f\"This employee's name is {self.name} and her/his salary is {self.salary} euro\")\n",
        "\n",
        "# make a subclass that has inheritance\n",
        "class manager (employee):\n",
        "  def __init__ (self, name, salary, status, allowance): # add new attributes\n",
        "    super().__init__(name, salary)\n",
        "    self.allowance = allowance\n",
        "    self.status = status\n",
        "\n",
        "  def info_manager (self):\n",
        "    super(). employee_data() # implement the method from superclass\n",
        "    if self.status == 'manager':\n",
        "      print (f'He/She is a manager and his/her allowance is {self.allowance} euro')\n",
        "    else:\n",
        "      print (f'He/She is not a manager')\n",
        "\n",
        "# checking superclass\n",
        "E1 = employee('Vista', 1000000000)\n",
        "print (E1.name)\n",
        "\n",
        "# checking subclass\n",
        "M1 = manager ('Vista', 1000000000, 'manager' ,2000000000)\n",
        "M1.info_manager()\n",
        "\n",
        "M2 = manager ('Dwi', 1000000000, 'data engineer' ,2000000000)\n",
        "M2.info_manager()\n"
      ],
      "metadata": {
        "colab": {
          "base_uri": "https://localhost:8080/"
        },
        "id": "LU2-Jpz_tCCS",
        "outputId": "87354b60-dbe1-44cd-b38b-fabf84bc44e8"
      },
      "execution_count": null,
      "outputs": [
        {
          "output_type": "stream",
          "name": "stdout",
          "text": [
            "Vista\n",
            "This employee's name is Vista and her/his salary is 1000000000 euro\n",
            "He/She is a manager and his/her allowance is 2000000000 euro\n",
            "This employee's name is Dwi and her/his salary is 1000000000 euro\n",
            "He/She is not a manager\n"
          ]
        }
      ]
    },
    {
      "cell_type": "markdown",
      "source": [
        "# 4. Implement Polymorphism and Overriding Method"
      ],
      "metadata": {
        "id": "_Ytgq8QvM7k0"
      }
    },
    {
      "cell_type": "code",
      "source": [
        "# make a super class vehicle\n",
        "class vehicle ():\n",
        "  def __init__ (self, types, brand, year, price):\n",
        "    self.types = types\n",
        "    self.brand = brand\n",
        "    self.year = year\n",
        "    self.price = price\n",
        "\n",
        "  def fuel (self):\n",
        "    print (\"The fuel is unknown\")\n",
        "\n",
        "# make a subclass\n",
        "class car (vehicle):\n",
        "  def __init__ (self, types, brand, year, price):\n",
        "    super().__init__ (types, brand, year, price)\n",
        "\n",
        "  def fuel (self): # make polymorphism method\n",
        "    print ('The fuel of the car is gasoline')\n",
        "\n",
        "class motor (vehicle):\n",
        "  def __init__ (self,types, brand, year, price):\n",
        "    super().__init__(types, brand,year,price)\n",
        "\n",
        "  def fuel (self): # make polymorphism method\n",
        "    print ('The fuel of the motor is solar')\n",
        "\n",
        "# check the result\n",
        "v1 = vehicle('Car', 'Toyota', 2025, 100000)\n",
        "v1.fuel()\n",
        "c1 = car('Car', 'Toyota', 2025, 100000)\n",
        "c1.fuel()\n",
        "m1 = motor('Car', 'Toyota', 2025, 100000)\n",
        "m1.fuel()\n",
        "\n"
      ],
      "metadata": {
        "colab": {
          "base_uri": "https://localhost:8080/"
        },
        "id": "ungB15Ob8SSF",
        "outputId": "741a8cee-6683-470d-c12c-4b709dca2011"
      },
      "execution_count": null,
      "outputs": [
        {
          "output_type": "stream",
          "name": "stdout",
          "text": [
            "The fuel is unknown\n",
            "The fuel of the car is gasoline\n",
            "The fuel of the motor is solar\n"
          ]
        }
      ]
    },
    {
      "cell_type": "markdown",
      "source": [
        "# 5. Implement Abstraction and Interfaces"
      ],
      "metadata": {
        "id": "8N8ZUDEvNjwB"
      }
    },
    {
      "cell_type": "code",
      "source": [
        "from abc import ABC, abstractmethod\n",
        "\n",
        "# make animals class\n",
        "class animals ():\n",
        "  def __init__ (self, species, habitat):\n",
        "    self.species = species\n",
        "    self.habitat = habitat\n",
        "\n",
        "  @abstractmethod # make abstraction\n",
        "  def voice (self):\n",
        "    pass\n",
        "\n",
        "class cat (animals): # make subclass cat\n",
        "  def voice (self):\n",
        "    print ('The sound of a cat is meoowww')\n",
        "\n",
        "class dog (animals): # make subclass dog\n",
        "  def voice (self):\n",
        "    print ('The sound of a dog is bark')\n",
        "\n",
        "a1 = animals ('cat', 'land')\n",
        "c1 = cat ('cat','land')\n",
        "c1.voice()\n",
        "d1 = dog ('dog','land')\n",
        "d1.voice()"
      ],
      "metadata": {
        "colab": {
          "base_uri": "https://localhost:8080/"
        },
        "id": "G_cXQytOCoWU",
        "outputId": "89b16b43-fd87-4f87-bbd3-6c045b22b01e"
      },
      "execution_count": null,
      "outputs": [
        {
          "output_type": "stream",
          "name": "stdout",
          "text": [
            "The sound of a cat is meoowww\n",
            "The sound of a dog is bark\n"
          ]
        }
      ]
    }
  ]
}